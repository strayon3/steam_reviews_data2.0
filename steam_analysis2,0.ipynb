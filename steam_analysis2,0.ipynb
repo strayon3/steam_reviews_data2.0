{
 "cells": [
  {
   "cell_type": "code",
   "execution_count": 3,
   "metadata": {},
   "outputs": [],
   "source": [
    "import pandas as pd\n",
    "import plotly.express as px\n",
    "from concurrent.futures import ThreadPoolExecutor as te\n",
    "import logging\n",
    "import os\n",
    "import csv\n",
    "import gc\n",
    "#These below are imported functions I created these to process large datasets faster than 3 hours \n",
    "from largedata_reader import parallel_read_csv\n",
    "from largedata_reader import process_game_chunk\n",
    "from largedata_reader import merge_scores\n"
   ]
  },
  {
   "cell_type": "markdown",
   "metadata": {},
   "source": [
    "# Overview\n",
    "\n",
    "This project focuses on analyzing and visualizing user sentiment from Steam game reviews. It processes raw review and game title data, cleans it, and applies sentiment analysis to classify reviews as positive, negative, or neutral. The sentiment results are then displayed in visually appealing graphs to help users quickly understand the public perception of various games.\n",
    "\n",
    "### Key Features:\n",
    "- **Data Cleaning**: Extracts and preprocesses Steam reviews and game titles.\n",
    "- **Sentiment Analysis**: Leverages tokenization and multithreading techniques to efficiently process reviews. Reviews are then graded as positive or negative based on sentiment.\n",
    "- **Visualizations**: Presents sentiment percentages and trends through interactive bar graphs and charts.\n",
    "\n",
    "\n",
    "Enjoy exploring the sentiment trends of your favorite Steam games!\n",
    "\n",
    "\n",
    "<iframe src=\"https://giphy.com/embed/xT9C25UNTwfZuk85WP\" width=\"480\" height=\"346\" style=\"\" frameBorder=\"0\" class=\"giphy-embed\" allowFullScreen></iframe><p><a href=\"https://giphy.com/gifs/Giflytics-gif-jazminantoinette-giflytics-xT9C25UNTwfZuk85WP\">via GIPHY</a></p>\n"
   ]
  },
  {
   "cell_type": "code",
   "execution_count": 4,
   "metadata": {},
   "outputs": [
    {
     "name": "stdout",
     "output_type": "stream",
     "text": [
      "shape: (5, 3)\n",
      "┌──────────────────────────┬──────────┬─────────────────────────────────┐\n",
      "│ app_name                 ┆ language ┆ review                          │\n",
      "│ ---                      ┆ ---      ┆ ---                             │\n",
      "│ str                      ┆ str      ┆ str                             │\n",
      "╞══════════════════════════╪══════════╪═════════════════════════════════╡\n",
      "│ The Witcher 3: Wild Hunt ┆ english  ┆ One of the best RPG's of all t… │\n",
      "│ The Witcher 3: Wild Hunt ┆ english  ┆ good story, good graphics. lot… │\n",
      "│ The Witcher 3: Wild Hunt ┆ english  ┆ dis gud,                        │\n",
      "│ The Witcher 3: Wild Hunt ┆ english  ┆ favorite game of all time cant… │\n",
      "│ The Witcher 3: Wild Hunt ┆ english  ┆ Why wouldn't you get this       │\n",
      "└──────────────────────────┴──────────┴─────────────────────────────────┘\n"
     ]
    }
   ],
   "source": [
    "#we are going to be looking at tsteam reviews and applying sentiment analysis \n",
    "#on them for game in the steam store in either 2020 \n",
    "\n",
    "#File sentiment scores will be cahced to its to help not have to recompute the sentiment scores every time \n",
    "Cache_file = \"game_scores_cache.csv\"\n",
    "\n",
    "\n",
    "game_titles = []\n",
    "\n",
    "if __name__ == '__main__':\n",
    "    #path for csv here for datset\n",
    "    df_path = \"c:/Users/stray/Desktop/portfolioDatasets/datasets/steam_reviews.csv\"\n",
    "    dataframe = parallel_read_csv(df_path)\n",
    "\n",
    "    #validate the results\n",
    "    print(dataframe.head())\n",
    "    #converts from a polars object to a pandas object\n",
    "    dataframe = dataframe.to_pandas()\n",
    "\n",
    "    for i in dataframe[\"app_name\"]:\n",
    "        if i not in game_titles:\n",
    "            game_titles.append(i)\n"
   ]
  },
  {
   "cell_type": "markdown",
   "metadata": {},
   "source": [
    "# Steam Reviews Sentiment Analysis (2020)\n",
    "\n",
    "This section focuses on preparing the dataset for sentiment analysis of Steam reviews for games available in 2020.  \n",
    "\n",
    "### Key Steps:\n",
    "1. **Data Loading**: The dataset is loaded using multithreading to efficiently handle large volumes of data.\n",
    "2. **Filtering**: The `largedataframereader` function applies the following filters to ensure the dataset is relevant and clean:\n",
    "   - Reviews must be written in English.\n",
    "   - Reviews must not contain `NaN` values.\n",
    "   - Reviews must have a minimum length of three characters.  \n",
    "\n",
    "3. **Extracting Unique Game Titles**: A list of unique game titles is generated from the `app_name` column, which will be used in the next stage of the analysis.\n",
    "\n",
    "\n",
    "\n"
   ]
  },
  {
   "cell_type": "code",
   "execution_count": 5,
   "metadata": {},
   "outputs": [],
   "source": [
    "#put your wordlist here the path to that file \n",
    "#look reviews and determin sentiments\n",
    "with open(\"./wordlist/positive_sentiment_words.txt\", \"r\") as f:\n",
    "   good_keywords = [line.strip() for line in f.readlines()]\n",
    "\n",
    "#load bad wordlist\n",
    "with open(\"./wordlist/negative_sentiment_words.txt\",\"r\") as f:\n",
    "    bad_keywords = [line.strip() for line in f.readlines()]\n"
   ]
  },
  {
   "cell_type": "markdown",
   "metadata": {},
   "source": [
    "# Sentiment Analysis Function Overview\n",
    "\n",
    "This section focuses on the sentiment analysis function developed to process and score game reviews efficiently.  \n",
    "\n",
    "### Process:\n",
    "1. **Sentiment Scoring**:  \n",
    "   - Each review is analyzed using predefined keyword lists for positive and negative sentiment.  \n",
    "   - If a word in the review matches an entry in the keyword lists, it adds +1 to the corresponding sentiment score.  \n",
    "   - Reviews without matches do not contribute to the sentiment score.  \n",
    "\n",
    "2. **Optimization with Caching**:  \n",
    "   - Sentiment scores are written to a cache file after processing, ensuring the analysis only needs to run once per dataset.  \n",
    "   - On subsequent executions, the function checks for the existence of the cache file and loads the precomputed sentiment scores, saving time and resources.  \n",
    "\n",
    "3. **Efficiency Enhancements**:  \n",
    "   - The function processes game reviews using multithreading to handle large datasets more quickly.  \n",
    "   - Tokenization is applied to break down each review into individual words, facilitating direct comparisons with the keyword lists.  \n",
    "\n",
    "The function systematically iterates through each game in the `game_titles[]` list and scores the associated reviews for both positive and negative sentiment. This approach ensures efficient and reusable sentiment scoring,\n",
    "forming the foundation for further data analysis and visualization.\n"
   ]
  },
  {
   "cell_type": "code",
   "execution_count": 6,
   "metadata": {},
   "outputs": [],
   "source": [
    "def analyze_review(dataframe, game_titles, good_keywords, bad_keywords):\n",
    "    #check if cache file exists\n",
    "    if os.path.exists(Cache_file):\n",
    "        print(\"Cache file found, loading sentiment scores...........\")\n",
    "        return load_scores_from_csv(Cache_file)\n",
    "    \n",
    "    logging.info(\"No cache file found, starting sentiment analysis..........\")\n",
    "    #initialize the game scores\n",
    "    game_scores = {title:{\"Good\":0, \"Bad\":0} for title in game_titles}\n",
    "    chunk_size = 100000\n",
    "\n",
    "    print(f\"Chunk size set to {chunk_size} reviews per batch..\")\n",
    "\n",
    "    good_keywords_set = set(good_keywords)\n",
    "    bad_keywords_set = set(bad_keywords)\n",
    "\n",
    "    #processs in chunks \n",
    "    chunks = (dataframe[i:i+chunk_size] for i in range(0, len(dataframe), chunk_size))\n",
    "    with te() as executor:\n",
    "        for i,chunk_results in enumerate(\n",
    "            executor.map(\n",
    "                lambda chunk: process_game_chunk(chunk, good_keywords_set,\n",
    "                                 bad_keywords_set, game_scores),chunks\n",
    "            )\n",
    "        ):\n",
    "            print(f\"Processed {i + 1} chunks of reviews\")\n",
    "            merge_scores(chunk_results, game_scores)\n",
    "            print(f\"Scores after chunk {i + 1}: {game_scores}\")\n",
    "            gc.collect() # free memory to make sure no overflows happen \n",
    "\n",
    "    print(\"Saving computed game scores to CSV cache file\")\n",
    "    save_scores_to_csv(game_scores, Cache_file)\n",
    "\n",
    "    print(\"Sentiment analysis completed successfully.\")\n",
    "    return game_scores\n",
    "\n",
    "def load_scores_from_csv(filepath):\n",
    "    \"\"\"Load sentiment scores from a CSV file.\"\"\"\n",
    "    scores = {}\n",
    "    with open(filepath, mode=\"r\") as file:\n",
    "        reader = csv.DictReader(file)\n",
    "        for row in reader:\n",
    "            scores[row[\"Title\"]] = {\"Good\": int(row[\"Good\"]), \"Bad\": int(row[\"Bad\"])}\n",
    "    print(\"Successfully loaded game scores from cache.\")\n",
    "    return scores\n",
    "\n",
    "def save_scores_to_csv(game_scores, filepath):\n",
    "    \"\"\"Save sentiment scores to a CSV file.\"\"\"\n",
    "    with open(filepath, mode=\"w\", newline=\"\", encoding=\"utf-8\") as file:\n",
    "        writer = csv.writer(file)\n",
    "        writer.writerow([\"Title\", \"Good\", \"Bad\"])\n",
    "        for title, counts in game_scores.items():\n",
    "            writer.writerow([title, counts[\"Good\"], counts[\"Bad\"]])\n",
    "            print(f\"Game scores saved to cache file: {filepath}\")"
   ]
  },
  {
   "cell_type": "code",
   "execution_count": 7,
   "metadata": {},
   "outputs": [
    {
     "name": "stdout",
     "output_type": "stream",
     "text": [
      "Cache file found, loading sentiment scores...........\n",
      "Successfully loaded game scores from cache.\n"
     ]
    }
   ],
   "source": [
    "game_sentiment = analyze_review(dataframe,game_titles,good_keywords,bad_keywords)\n",
    "games = list(game_sentiment.keys())\n",
    "good_reviews = [game_sentiment[game][\"Good\"] for game in games]\n",
    "bad_reviews = [game_sentiment[game][\"Bad\"] for game in games]"
   ]
  },
  {
   "cell_type": "code",
   "execution_count": 8,
   "metadata": {},
   "outputs": [
    {
     "data": {
      "application/vnd.plotly.v1+json": {
       "config": {
        "plotlyServerURL": "https://plot.ly"
       },
       "data": [
        {
         "alignmentgroup": "True",
         "hovertemplate": "variable=wide_variable_0<br>value=%{x}<br>Review Count=%{y}<extra></extra>",
         "legendgroup": "wide_variable_0",
         "marker": {
          "color": "#636efa",
          "pattern": {
           "shape": ""
          }
         },
         "name": "wide_variable_0",
         "offsetgroup": "wide_variable_0",
         "orientation": "h",
         "showlegend": true,
         "textposition": "auto",
         "type": "bar",
         "x": [
          342451,
          51256,
          47981,
          15252,
          181334,
          16913,
          382968,
          178067,
          304191,
          168088,
          275183,
          36228,
          65436,
          8441,
          71175,
          48202,
          23374,
          83176,
          12827,
          3363,
          209870,
          1588,
          29465,
          10190,
          8127,
          4865,
          7509,
          2668,
          33433,
          32215,
          42217,
          7830,
          25558,
          13382,
          51435,
          6167,
          53468,
          3788,
          2332,
          3075,
          3200,
          3812,
          1850,
          15981,
          8173,
          96729,
          58161,
          15603,
          10970,
          36807,
          28844,
          3010,
          4984,
          17317,
          62971,
          1864,
          19871,
          12446,
          338466,
          4879,
          131085,
          133880,
          101005,
          93533,
          137621,
          92108,
          67594,
          25598,
          12464,
          7304,
          67593,
          27669,
          89279,
          9445,
          81073,
          91182,
          46157,
          53769,
          115952,
          177643,
          6437,
          13218,
          26414,
          49509,
          9672,
          338969,
          496345,
          322534,
          54,
          23132,
          25329,
          15730,
          69,
          2271,
          39965,
          3445,
          428930,
          7335,
          7326,
          104724,
          73989,
          46258,
          93629,
          165513,
          181783,
          59175,
          111207,
          43098,
          18914,
          141586,
          85183,
          80725,
          66077,
          161225,
          10775,
          49041,
          97390,
          61637,
          215905,
          74341,
          384321,
          67824,
          64087,
          33815,
          32738,
          35816,
          48322,
          63477,
          162294,
          55201,
          28055,
          53793,
          56465,
          76468,
          10534,
          13932,
          56537,
          11419,
          51021,
          1142,
          40520,
          30925,
          43360,
          281485,
          24839,
          102416,
          6568,
          169149,
          75122,
          48423,
          28615,
          47254,
          64651,
          18670,
          67498,
          40442,
          25638,
          146742,
          10717,
          201975,
          99489,
          13221,
          42886,
          11533,
          18646,
          7430,
          27787,
          29384,
          7309,
          43380,
          27727,
          47058,
          17651,
          36839,
          10155,
          468357,
          484498,
          232016,
          137949,
          111511,
          147347,
          63112,
          160372,
          68057,
          155705,
          61788,
          436109,
          367752,
          55353,
          67603,
          57127,
          48973,
          408115,
          185630,
          83418,
          15409,
          21538,
          41868,
          78320,
          39376,
          30106,
          112759,
          52342,
          23748,
          117006,
          78528,
          39228,
          75113,
          565661,
          328473,
          115367,
          118315,
          25045,
          122834,
          61730,
          114287,
          33379,
          100088,
          145524,
          131825,
          115050,
          22776,
          6941,
          43884,
          27991,
          18360,
          110856,
          168351,
          17422,
          4655,
          650,
          42654,
          9859,
          11930,
          8006,
          8772,
          24680,
          4321,
          7831,
          8562,
          17325,
          2991,
          5281,
          8930,
          9647,
          4950,
          3103,
          6682,
          4709,
          14129,
          7534,
          11849,
          2775,
          8464,
          2218,
          5408,
          9616,
          9069,
          15607,
          2604,
          2462,
          2829,
          8568,
          12606,
          14329,
          3889,
          30276,
          35742,
          4088,
          49939,
          3417,
          21550,
          7827,
          23360,
          31496,
          8229,
          28809,
          62042,
          27198,
          93362,
          11431,
          88457,
          64724,
          48550,
          18352,
          7197,
          12145,
          28031,
          3521,
          17864,
          13212,
          30823,
          8280,
          49045,
          3590,
          5077,
          24781,
          21375,
          2431,
          2343,
          32455,
          3291,
          18768,
          4362,
          6125,
          7981,
          2797,
          6165,
          12864,
          7884,
          10347,
          1659,
          12149,
          16074,
          100020
         ],
         "xaxis": "x",
         "y": [
          "The Witcher 3: Wild Hunt",
          "Half-Life",
          "Counter-Strike: Source",
          "Half-Life 2: Episode Two",
          "Portal 2",
          "X Rebirth",
          "Garry's Mod",
          "Sid Meier's Civilization V",
          "Dead by Daylight",
          "Sid Meier's Civilization VI",
          "Subnautica",
          "Human: Fall Flat",
          "Beat Saber",
          "Cold Waters",
          "Banished",
          "Celeste",
          "Getting Over It with Bennett Foddy",
          "A Hat in Time",
          "Overcooked! 2",
          "Slipstream",
          "The Forest",
          "Pogostuck: Rage With Your Friends",
          "PC Building Simulator",
          "RollerCoaster Tycoon World",
          "NBA 2K18",
          "NBA 2K21",
          "Deus Ex: The Fall",
          "Rapture Rejects",
          "Artifact",
          "Call of Duty: Infinite Warfare",
          "Cube World",
          "NBA 2K19",
          "Nether",
          "Wolfenstein: Youngblood",
          "Warhammer 40,000: Dawn of War III",
          "Takedown: Red Sabre",
          "ATLAS",
          "Stay Out",
          "Identity",
          "Umbrella Corps",
          "Hunt Down The Freeman",
          "WWE 2K20",
          "Down To One",
          "Axiom Verge",
          "Guacamelee! Super Turbo Championship Edition",
          "The Binding of Isaac: Rebirth",
          "To the Moon",
          "Cave Story+",
          "Titan Souls",
          "Shovel Knight: Treasure Trove",
          "Super Meat Boy",
          "Don't Escape: 4 Days to Survive",
          "Volgarr the Viking",
          "Momodora: Reverie Under the Moonlight",
          "Enter the Gungeon",
          "Shadow Complex Remastered",
          "Salt and Sanctuary",
          "20XX",
          "Hollow Knight",
          "The End Is Nigh",
          "Factorio",
          "RimWorld",
          "Insurgency: Sandstorm",
          "Slay the Spire",
          "Euro Truck Simulator 2",
          "Wallpaper Engine",
          "Pathfinder: Kingmaker",
          "Farming Simulator 19",
          "Foundation",
          "GOD EATER 3",
          "Kenshi",
          "Into the Breach",
          "Warhammer: Vermintide 2",
          "A Way Out",
          "Borderlands 3",
          "Sekiroâ„¢: Shadows Die Twice",
          "Total War: THREE KINGDOMS",
          "DEATH STRANDING",
          "MORDHAU",
          "DOOM Eternal",
          "Age of Empires: Definitive Edition",
          "A Short Hike",
          "The Henry Stickmin Collection",
          "Crusader Kings III",
          "Void Bastards",
          "Stardew Valley",
          "Tom Clancy's Rainbow Six Siege",
          "Among Us",
          "ä¸‰å›½ç¾¤è‹±ä¼ 8 Heroes of the Three Kingdoms 8",
          "Blackwake",
          "Little Nightmares",
          "Bomber Crew",
          "Neon Hardcorps",
          "Dragon Cliff é¾™å´–",
          "DRAGON BALL FighterZ",
          "X-Blades",
          "Rust",
          "Nova Drift",
          "Due Process",
          "Far Cry 5",
          "Raft",
          "HITMANâ„¢ 2",
          "Assassin's Creed Odyssey",
          "Hades",
          "Phasmophobia",
          "Helltaker",
          "Mount & Blade: Warband",
          "Totally Accurate Battle Simulator",
          "People Playground",
          "Doki Doki Literature Club",
          "Resident Evil 2",
          "Slime Rancher",
          "Hotline Miami",
          "Tomb Raider",
          "Mirror",
          "BattleBlock Theater",
          "Dishonored",
          "South Parkâ„¢: The Stick of Truthâ„¢",
          "Undertale",
          "Don't Starve",
          "Rocket League",
          "Persona 4 Golden",
          "Dead Cells",
          "OneShot",
          "VA-11 Hall-A: Cyberpunk Bartender Action",
          "Broforce",
          "The Wolf Among Us",
          "The Walking Dead",
          "Divinity: Original Sin 2",
          "Satisfactory",
          "One Finger Death Punch",
          "Bloons TD 6",
          "Oxygen Not Included",
          "Cuphead",
          "ULTRAKILL",
          "Baba Is You",
          "Castle Crashers",
          "Townscaper",
          "Papers, Please",
          "Senrenï¼ŠBanka",
          "GRIS",
          "DUSK",
          "Outlast",
          "The Elder Scrolls V: Skyrim",
          "The Room",
          "FTL: Faster Than Light",
          "There Is No Game: Wrong Dimension",
          "Dying Light",
          "American Truck Simulator",
          "Saints Row: The Third",
          "STAR WARSâ„¢ Empire at War: Gold Pack",
          "Ori and the Will of the Wisps",
          "BeamNG.drive",
          "The Room Two",
          "Age of Empires II (2013)",
          "Ravenfield",
          "Super Hexagon",
          "BioShock Infinite",
          "Just Shapes & Beats",
          "DOOM",
          "Black Mesa",
          "Finding Paradise",
          "Tabletop Simulator",
          "Keep Talking and Nobody Explodes",
          "Duck Game",
          "STEINS;GATE",
          "Danganronpa: Trigger Happy Havoc",
          "Mark of the Ninja",
          "Phoenix Wright: Ace Attorney Trilogy",
          "Batman: Arkham Asylum GOTY Edition",
          "Gunpoint",
          "The Binding of Isaac",
          "Danganronpa 2: Goodbye Despair",
          "HuniePop",
          "Grimm's Hollow",
          "Grand Theft Auto V",
          "PLAYERUNKNOWN'S BATTLEGROUNDS",
          "Monster Hunter: World",
          "The Elder Scrolls Online",
          "Total War: WARHAMMER II",
          "Cities: Skylines",
          "Assassin's Creed Origins",
          "Stellaris",
          "Black Desert Online",
          "Kingdom Come: Deliverance",
          "Jurassic World Evolution",
          "ARK: Survival Evolved",
          "No Man's Sky",
          "SCUM",
          "Frostpunk",
          "Tom Clancy's Ghost ReconÂ® Wildlands",
          "FINAL FANTASY XV WINDOWS EDITION",
          "Fallout 4",
          "DARK SOULSâ„¢ III",
          "Rise of the Tomb Raider",
          "Sword Art Online: Fatal Bullet",
          "The Crew 2",
          "DARK SOULSâ„¢: REMASTERED",
          "Middle-earthâ„¢: Shadow of Warâ„¢",
          "Watch_Dogs 2",
          "Pillars of Eternity II: Deadfire",
          "Hearts of Iron IV",
          "They Are Billions",
          "Total War Saga: Thrones of Britannia",
          "Don't Starve Together",
          "Total War: ROME II - Emperor Edition",
          "Call of Duty: WWII",
          "BATTLETECH",
          "Terraria",
          "PAYDAY 2",
          "XCOM 2",
          "Deep Rock Galactic",
          "The Sims(TM) 3",
          "Hunt: Showdown",
          "theHunter: Call of the Wildâ„¢",
          "Conan Exiles",
          "Two Point Hospital",
          "Total War: WARHAMMER",
          "The Elder Scrolls V: Skyrim Special Edition",
          "Darkest DungeonÂ®",
          "NieR:Automataâ„¢",
          "Bless Online",
          "Football Manager 2019",
          "House Flipper",
          "Surviving Mars",
          "SOULCALIBUR VI",
          "For Honor",
          "Arma 3",
          "Ni no Kuniâ„¢ II: Revenant Kingdom",
          "SOS",
          "Battle Royale Trainer",
          "My Time At Portia",
          "Iconoclasts",
          "Railway Empire",
          "Trailmakers",
          "Staxel",
          "BATTALION 1944",
          "The Legend of Heroes: Trails of Cold Steel II",
          "Rise of Industry",
          "CHRONO TRIGGER",
          "Freeman: Guerrilla Warfare",
          "Dungreed",
          "Puyo Puyoâ„¢TetrisÂ® ",
          "Secret of Mana",
          "Farm Together",
          "Cyberdimension Neptunia: 4 Goddesses Online",
          "Fishing: Barents Sea",
          "DYNASTY WARRIORS 9",
          "We Were Here Too",
          "METAL GEAR SURVIVE",
          "Desolate",
          "Eco",
          "SENRAN KAGURA Peach Beach Splash",
          "PixARK",
          "Out of the Park Baseball 19",
          "Devil May Cry HD Collection",
          "Heroes of Hammerwatch",
          "Ghost of a Tale",
          "Monster Prom",
          "Farm Manager 2018",
          "Rules Of Survival",
          "STEINS;GATE 0",
          "Ancestors Legacy",
          "FAR: Lone Sails",
          "Crash Bandicootâ„¢ N. Sane Trilogy",
          "Budget Cuts",
          "Totally Accurate Battlegrounds",
          "Vampyr",
          "Clicker Heroes 2",
          "Yakuza 0",
          "WWE 2K19",
          "Warhammer 40,000: Mechanicus",
          "Thief Simulator",
          "Darksiders III",
          "Mutant Year Zero: Road to Eden",
          "Kingdom Two Crowns",
          "Just Cause 4",
          "Planet Coaster",
          "Nioh: Complete Edition",
          "Europa Universalis IV",
          "FINAL FANTASY XII THE ZODIAC AGE",
          "Just Cause 3",
          "FINAL FANTASY XIV Online",
          "Resident Evil 7 Biohazard",
          "Torment: Tides of Numenera",
          "Detention",
          "Pit People",
          "Tales of Berseria",
          "Urban Empire",
          "Avorion",
          "Youtubers Life",
          "Night in the Woods",
          "Golf It!",
          "Northgard",
          "BERSERK and the Band of the Hawk",
          "The Wild Eight",
          "Sniper Elite 4",
          "For The King",
          "WWE 2K17",
          "Fairy Fencer F Advent Dark Force",
          "Day of Infamy",
          "SENRAN KAGURA ESTIVAL VERSUS",
          "Streets of Rogue",
          "Ultimate Marvel vs. Capcom 3",
          "SimAirport",
          "Thimbleweed Park",
          "Toukiden 2",
          "Dead Rising 4",
          "X-Plane 11",
          "Styx: Shards of Darkness",
          "Train Sim WorldÂ® 2020",
          "DRAGON QUEST HEROESâ„¢ II",
          "Steel Division: Normandy 44",
          "DiRT 4",
          "Half-Life: Alyx"
         ],
         "yaxis": "y"
        },
        {
         "alignmentgroup": "True",
         "hovertemplate": "variable=wide_variable_1<br>value=%{x}<br>Review Count=%{y}<extra></extra>",
         "legendgroup": "wide_variable_1",
         "marker": {
          "color": "#EF553B",
          "pattern": {
           "shape": ""
          }
         },
         "name": "wide_variable_1",
         "offsetgroup": "wide_variable_1",
         "orientation": "h",
         "showlegend": true,
         "textposition": "auto",
         "type": "bar",
         "x": [
          120639,
          20980,
          15991,
          6539,
          44434,
          14711,
          135225,
          62745,
          236504,
          81210,
          111885,
          14560,
          21649,
          4473,
          38657,
          18497,
          24570,
          23113,
          4805,
          1155,
          112474,
          1520,
          9229,
          8560,
          8297,
          4495,
          7156,
          1432,
          16770,
          21551,
          28581,
          6770,
          23939,
          11040,
          30681,
          6261,
          46866,
          3761,
          2305,
          2794,
          3350,
          4304,
          1538,
          6863,
          3552,
          46688,
          20847,
          6657,
          8882,
          13440,
          17731,
          853,
          3847,
          9180,
          31886,
          1019,
          16053,
          5147,
          165012,
          2540,
          49995,
          79793,
          48986,
          31033,
          36154,
          15799,
          51047,
          8191,
          4690,
          4150,
          48454,
          13821,
          59485,
          3399,
          45614,
          64907,
          18765,
          29257,
          74679,
          166625,
          3385,
          2297,
          7279,
          21570,
          6351,
          92188,
          257341,
          123201,
          42,
          12074,
          13794,
          10943,
          83,
          1169,
          15141,
          3518,
          298753,
          2637,
          3492,
          80097,
          30568,
          19161,
          42072,
          48081,
          109470,
          27027,
          45327,
          12121,
          9429,
          76215,
          45065,
          30926,
          43339,
          60641,
          4843,
          18590,
          44541,
          21856,
          98367,
          40103,
          143643,
          26046,
          34632,
          11671,
          10451,
          17598,
          19704,
          31514,
          69633,
          18665,
          14768,
          14304,
          26592,
          40429,
          6636,
          5610,
          18665,
          2421,
          23856,
          327,
          10988,
          14783,
          36304,
          119731,
          7664,
          55131,
          2125,
          111621,
          18953,
          23201,
          8615,
          19101,
          22265,
          5719,
          18562,
          11726,
          13968,
          60162,
          3146,
          147463,
          32853,
          4457,
          11277,
          5730,
          28393,
          3770,
          16330,
          12006,
          3086,
          17653,
          9687,
          29554,
          9413,
          16096,
          3144,
          281866,
          422683,
          156815,
          64569,
          42738,
          55624,
          30852,
          84358,
          39897,
          108599,
          28753,
          279800,
          221966,
          37310,
          35273,
          36521,
          27943,
          328764,
          146249,
          32780,
          9416,
          10323,
          34454,
          55322,
          20093,
          14292,
          52284,
          39321,
          12948,
          54240,
          43731,
          28768,
          44708,
          160351,
          182107,
          86687,
          45781,
          13447,
          84596,
          30272,
          70513,
          11855,
          51209,
          60341,
          123581,
          60303,
          19397,
          3240,
          17644,
          14824,
          8547,
          78587,
          75595,
          9589,
          3368,
          273,
          16597,
          5049,
          5677,
          2853,
          3625,
          13808,
          2263,
          3522,
          4194,
          8907,
          1461,
          2379,
          6389,
          2768,
          3058,
          1423,
          5194,
          2027,
          10993,
          5815,
          5912,
          1576,
          5758,
          694,
          4227,
          4744,
          3663,
          6551,
          1829,
          3206,
          1447,
          4299,
          3826,
          9075,
          2584,
          16862,
          27103,
          1837,
          22886,
          2371,
          10129,
          4132,
          19328,
          15968,
          4923,
          24012,
          22516,
          21672,
          43218,
          5069,
          61775,
          26803,
          34328,
          11352,
          4031,
          4955,
          14911,
          2639,
          8521,
          7096,
          13677,
          3466,
          17921,
          2750,
          3582,
          11211,
          12028,
          1989,
          1375,
          15231,
          1592,
          9325,
          1656,
          3104,
          3394,
          1858,
          6648,
          3587,
          5260,
          5085,
          1069,
          7394,
          12734,
          35282
         ],
         "xaxis": "x",
         "y": [
          "The Witcher 3: Wild Hunt",
          "Half-Life",
          "Counter-Strike: Source",
          "Half-Life 2: Episode Two",
          "Portal 2",
          "X Rebirth",
          "Garry's Mod",
          "Sid Meier's Civilization V",
          "Dead by Daylight",
          "Sid Meier's Civilization VI",
          "Subnautica",
          "Human: Fall Flat",
          "Beat Saber",
          "Cold Waters",
          "Banished",
          "Celeste",
          "Getting Over It with Bennett Foddy",
          "A Hat in Time",
          "Overcooked! 2",
          "Slipstream",
          "The Forest",
          "Pogostuck: Rage With Your Friends",
          "PC Building Simulator",
          "RollerCoaster Tycoon World",
          "NBA 2K18",
          "NBA 2K21",
          "Deus Ex: The Fall",
          "Rapture Rejects",
          "Artifact",
          "Call of Duty: Infinite Warfare",
          "Cube World",
          "NBA 2K19",
          "Nether",
          "Wolfenstein: Youngblood",
          "Warhammer 40,000: Dawn of War III",
          "Takedown: Red Sabre",
          "ATLAS",
          "Stay Out",
          "Identity",
          "Umbrella Corps",
          "Hunt Down The Freeman",
          "WWE 2K20",
          "Down To One",
          "Axiom Verge",
          "Guacamelee! Super Turbo Championship Edition",
          "The Binding of Isaac: Rebirth",
          "To the Moon",
          "Cave Story+",
          "Titan Souls",
          "Shovel Knight: Treasure Trove",
          "Super Meat Boy",
          "Don't Escape: 4 Days to Survive",
          "Volgarr the Viking",
          "Momodora: Reverie Under the Moonlight",
          "Enter the Gungeon",
          "Shadow Complex Remastered",
          "Salt and Sanctuary",
          "20XX",
          "Hollow Knight",
          "The End Is Nigh",
          "Factorio",
          "RimWorld",
          "Insurgency: Sandstorm",
          "Slay the Spire",
          "Euro Truck Simulator 2",
          "Wallpaper Engine",
          "Pathfinder: Kingmaker",
          "Farming Simulator 19",
          "Foundation",
          "GOD EATER 3",
          "Kenshi",
          "Into the Breach",
          "Warhammer: Vermintide 2",
          "A Way Out",
          "Borderlands 3",
          "Sekiroâ„¢: Shadows Die Twice",
          "Total War: THREE KINGDOMS",
          "DEATH STRANDING",
          "MORDHAU",
          "DOOM Eternal",
          "Age of Empires: Definitive Edition",
          "A Short Hike",
          "The Henry Stickmin Collection",
          "Crusader Kings III",
          "Void Bastards",
          "Stardew Valley",
          "Tom Clancy's Rainbow Six Siege",
          "Among Us",
          "ä¸‰å›½ç¾¤è‹±ä¼ 8 Heroes of the Three Kingdoms 8",
          "Blackwake",
          "Little Nightmares",
          "Bomber Crew",
          "Neon Hardcorps",
          "Dragon Cliff é¾™å´–",
          "DRAGON BALL FighterZ",
          "X-Blades",
          "Rust",
          "Nova Drift",
          "Due Process",
          "Far Cry 5",
          "Raft",
          "HITMANâ„¢ 2",
          "Assassin's Creed Odyssey",
          "Hades",
          "Phasmophobia",
          "Helltaker",
          "Mount & Blade: Warband",
          "Totally Accurate Battle Simulator",
          "People Playground",
          "Doki Doki Literature Club",
          "Resident Evil 2",
          "Slime Rancher",
          "Hotline Miami",
          "Tomb Raider",
          "Mirror",
          "BattleBlock Theater",
          "Dishonored",
          "South Parkâ„¢: The Stick of Truthâ„¢",
          "Undertale",
          "Don't Starve",
          "Rocket League",
          "Persona 4 Golden",
          "Dead Cells",
          "OneShot",
          "VA-11 Hall-A: Cyberpunk Bartender Action",
          "Broforce",
          "The Wolf Among Us",
          "The Walking Dead",
          "Divinity: Original Sin 2",
          "Satisfactory",
          "One Finger Death Punch",
          "Bloons TD 6",
          "Oxygen Not Included",
          "Cuphead",
          "ULTRAKILL",
          "Baba Is You",
          "Castle Crashers",
          "Townscaper",
          "Papers, Please",
          "Senrenï¼ŠBanka",
          "GRIS",
          "DUSK",
          "Outlast",
          "The Elder Scrolls V: Skyrim",
          "The Room",
          "FTL: Faster Than Light",
          "There Is No Game: Wrong Dimension",
          "Dying Light",
          "American Truck Simulator",
          "Saints Row: The Third",
          "STAR WARSâ„¢ Empire at War: Gold Pack",
          "Ori and the Will of the Wisps",
          "BeamNG.drive",
          "The Room Two",
          "Age of Empires II (2013)",
          "Ravenfield",
          "Super Hexagon",
          "BioShock Infinite",
          "Just Shapes & Beats",
          "DOOM",
          "Black Mesa",
          "Finding Paradise",
          "Tabletop Simulator",
          "Keep Talking and Nobody Explodes",
          "Duck Game",
          "STEINS;GATE",
          "Danganronpa: Trigger Happy Havoc",
          "Mark of the Ninja",
          "Phoenix Wright: Ace Attorney Trilogy",
          "Batman: Arkham Asylum GOTY Edition",
          "Gunpoint",
          "The Binding of Isaac",
          "Danganronpa 2: Goodbye Despair",
          "HuniePop",
          "Grimm's Hollow",
          "Grand Theft Auto V",
          "PLAYERUNKNOWN'S BATTLEGROUNDS",
          "Monster Hunter: World",
          "The Elder Scrolls Online",
          "Total War: WARHAMMER II",
          "Cities: Skylines",
          "Assassin's Creed Origins",
          "Stellaris",
          "Black Desert Online",
          "Kingdom Come: Deliverance",
          "Jurassic World Evolution",
          "ARK: Survival Evolved",
          "No Man's Sky",
          "SCUM",
          "Frostpunk",
          "Tom Clancy's Ghost ReconÂ® Wildlands",
          "FINAL FANTASY XV WINDOWS EDITION",
          "Fallout 4",
          "DARK SOULSâ„¢ III",
          "Rise of the Tomb Raider",
          "Sword Art Online: Fatal Bullet",
          "The Crew 2",
          "DARK SOULSâ„¢: REMASTERED",
          "Middle-earthâ„¢: Shadow of Warâ„¢",
          "Watch_Dogs 2",
          "Pillars of Eternity II: Deadfire",
          "Hearts of Iron IV",
          "They Are Billions",
          "Total War Saga: Thrones of Britannia",
          "Don't Starve Together",
          "Total War: ROME II - Emperor Edition",
          "Call of Duty: WWII",
          "BATTLETECH",
          "Terraria",
          "PAYDAY 2",
          "XCOM 2",
          "Deep Rock Galactic",
          "The Sims(TM) 3",
          "Hunt: Showdown",
          "theHunter: Call of the Wildâ„¢",
          "Conan Exiles",
          "Two Point Hospital",
          "Total War: WARHAMMER",
          "The Elder Scrolls V: Skyrim Special Edition",
          "Darkest DungeonÂ®",
          "NieR:Automataâ„¢",
          "Bless Online",
          "Football Manager 2019",
          "House Flipper",
          "Surviving Mars",
          "SOULCALIBUR VI",
          "For Honor",
          "Arma 3",
          "Ni no Kuniâ„¢ II: Revenant Kingdom",
          "SOS",
          "Battle Royale Trainer",
          "My Time At Portia",
          "Iconoclasts",
          "Railway Empire",
          "Trailmakers",
          "Staxel",
          "BATTALION 1944",
          "The Legend of Heroes: Trails of Cold Steel II",
          "Rise of Industry",
          "CHRONO TRIGGER",
          "Freeman: Guerrilla Warfare",
          "Dungreed",
          "Puyo Puyoâ„¢TetrisÂ® ",
          "Secret of Mana",
          "Farm Together",
          "Cyberdimension Neptunia: 4 Goddesses Online",
          "Fishing: Barents Sea",
          "DYNASTY WARRIORS 9",
          "We Were Here Too",
          "METAL GEAR SURVIVE",
          "Desolate",
          "Eco",
          "SENRAN KAGURA Peach Beach Splash",
          "PixARK",
          "Out of the Park Baseball 19",
          "Devil May Cry HD Collection",
          "Heroes of Hammerwatch",
          "Ghost of a Tale",
          "Monster Prom",
          "Farm Manager 2018",
          "Rules Of Survival",
          "STEINS;GATE 0",
          "Ancestors Legacy",
          "FAR: Lone Sails",
          "Crash Bandicootâ„¢ N. Sane Trilogy",
          "Budget Cuts",
          "Totally Accurate Battlegrounds",
          "Vampyr",
          "Clicker Heroes 2",
          "Yakuza 0",
          "WWE 2K19",
          "Warhammer 40,000: Mechanicus",
          "Thief Simulator",
          "Darksiders III",
          "Mutant Year Zero: Road to Eden",
          "Kingdom Two Crowns",
          "Just Cause 4",
          "Planet Coaster",
          "Nioh: Complete Edition",
          "Europa Universalis IV",
          "FINAL FANTASY XII THE ZODIAC AGE",
          "Just Cause 3",
          "FINAL FANTASY XIV Online",
          "Resident Evil 7 Biohazard",
          "Torment: Tides of Numenera",
          "Detention",
          "Pit People",
          "Tales of Berseria",
          "Urban Empire",
          "Avorion",
          "Youtubers Life",
          "Night in the Woods",
          "Golf It!",
          "Northgard",
          "BERSERK and the Band of the Hawk",
          "The Wild Eight",
          "Sniper Elite 4",
          "For The King",
          "WWE 2K17",
          "Fairy Fencer F Advent Dark Force",
          "Day of Infamy",
          "SENRAN KAGURA ESTIVAL VERSUS",
          "Streets of Rogue",
          "Ultimate Marvel vs. Capcom 3",
          "SimAirport",
          "Thimbleweed Park",
          "Toukiden 2",
          "Dead Rising 4",
          "X-Plane 11",
          "Styx: Shards of Darkness",
          "Train Sim WorldÂ® 2020",
          "DRAGON QUEST HEROESâ„¢ II",
          "Steel Division: Normandy 44",
          "DiRT 4",
          "Half-Life: Alyx"
         ],
         "yaxis": "y"
        }
       ],
       "layout": {
        "bargap": 0.1,
        "barmode": "group",
        "height": 2500,
        "legend": {
         "title": {
          "text": "variable"
         },
         "tracegroupgap": 0
        },
        "template": {
         "data": {
          "bar": [
           {
            "error_x": {
             "color": "#2a3f5f"
            },
            "error_y": {
             "color": "#2a3f5f"
            },
            "marker": {
             "line": {
              "color": "#E5ECF6",
              "width": 0.5
             },
             "pattern": {
              "fillmode": "overlay",
              "size": 10,
              "solidity": 0.2
             }
            },
            "type": "bar"
           }
          ],
          "barpolar": [
           {
            "marker": {
             "line": {
              "color": "#E5ECF6",
              "width": 0.5
             },
             "pattern": {
              "fillmode": "overlay",
              "size": 10,
              "solidity": 0.2
             }
            },
            "type": "barpolar"
           }
          ],
          "carpet": [
           {
            "aaxis": {
             "endlinecolor": "#2a3f5f",
             "gridcolor": "white",
             "linecolor": "white",
             "minorgridcolor": "white",
             "startlinecolor": "#2a3f5f"
            },
            "baxis": {
             "endlinecolor": "#2a3f5f",
             "gridcolor": "white",
             "linecolor": "white",
             "minorgridcolor": "white",
             "startlinecolor": "#2a3f5f"
            },
            "type": "carpet"
           }
          ],
          "choropleth": [
           {
            "colorbar": {
             "outlinewidth": 0,
             "ticks": ""
            },
            "type": "choropleth"
           }
          ],
          "contour": [
           {
            "colorbar": {
             "outlinewidth": 0,
             "ticks": ""
            },
            "colorscale": [
             [
              0,
              "#0d0887"
             ],
             [
              0.1111111111111111,
              "#46039f"
             ],
             [
              0.2222222222222222,
              "#7201a8"
             ],
             [
              0.3333333333333333,
              "#9c179e"
             ],
             [
              0.4444444444444444,
              "#bd3786"
             ],
             [
              0.5555555555555556,
              "#d8576b"
             ],
             [
              0.6666666666666666,
              "#ed7953"
             ],
             [
              0.7777777777777778,
              "#fb9f3a"
             ],
             [
              0.8888888888888888,
              "#fdca26"
             ],
             [
              1,
              "#f0f921"
             ]
            ],
            "type": "contour"
           }
          ],
          "contourcarpet": [
           {
            "colorbar": {
             "outlinewidth": 0,
             "ticks": ""
            },
            "type": "contourcarpet"
           }
          ],
          "heatmap": [
           {
            "colorbar": {
             "outlinewidth": 0,
             "ticks": ""
            },
            "colorscale": [
             [
              0,
              "#0d0887"
             ],
             [
              0.1111111111111111,
              "#46039f"
             ],
             [
              0.2222222222222222,
              "#7201a8"
             ],
             [
              0.3333333333333333,
              "#9c179e"
             ],
             [
              0.4444444444444444,
              "#bd3786"
             ],
             [
              0.5555555555555556,
              "#d8576b"
             ],
             [
              0.6666666666666666,
              "#ed7953"
             ],
             [
              0.7777777777777778,
              "#fb9f3a"
             ],
             [
              0.8888888888888888,
              "#fdca26"
             ],
             [
              1,
              "#f0f921"
             ]
            ],
            "type": "heatmap"
           }
          ],
          "heatmapgl": [
           {
            "colorbar": {
             "outlinewidth": 0,
             "ticks": ""
            },
            "colorscale": [
             [
              0,
              "#0d0887"
             ],
             [
              0.1111111111111111,
              "#46039f"
             ],
             [
              0.2222222222222222,
              "#7201a8"
             ],
             [
              0.3333333333333333,
              "#9c179e"
             ],
             [
              0.4444444444444444,
              "#bd3786"
             ],
             [
              0.5555555555555556,
              "#d8576b"
             ],
             [
              0.6666666666666666,
              "#ed7953"
             ],
             [
              0.7777777777777778,
              "#fb9f3a"
             ],
             [
              0.8888888888888888,
              "#fdca26"
             ],
             [
              1,
              "#f0f921"
             ]
            ],
            "type": "heatmapgl"
           }
          ],
          "histogram": [
           {
            "marker": {
             "pattern": {
              "fillmode": "overlay",
              "size": 10,
              "solidity": 0.2
             }
            },
            "type": "histogram"
           }
          ],
          "histogram2d": [
           {
            "colorbar": {
             "outlinewidth": 0,
             "ticks": ""
            },
            "colorscale": [
             [
              0,
              "#0d0887"
             ],
             [
              0.1111111111111111,
              "#46039f"
             ],
             [
              0.2222222222222222,
              "#7201a8"
             ],
             [
              0.3333333333333333,
              "#9c179e"
             ],
             [
              0.4444444444444444,
              "#bd3786"
             ],
             [
              0.5555555555555556,
              "#d8576b"
             ],
             [
              0.6666666666666666,
              "#ed7953"
             ],
             [
              0.7777777777777778,
              "#fb9f3a"
             ],
             [
              0.8888888888888888,
              "#fdca26"
             ],
             [
              1,
              "#f0f921"
             ]
            ],
            "type": "histogram2d"
           }
          ],
          "histogram2dcontour": [
           {
            "colorbar": {
             "outlinewidth": 0,
             "ticks": ""
            },
            "colorscale": [
             [
              0,
              "#0d0887"
             ],
             [
              0.1111111111111111,
              "#46039f"
             ],
             [
              0.2222222222222222,
              "#7201a8"
             ],
             [
              0.3333333333333333,
              "#9c179e"
             ],
             [
              0.4444444444444444,
              "#bd3786"
             ],
             [
              0.5555555555555556,
              "#d8576b"
             ],
             [
              0.6666666666666666,
              "#ed7953"
             ],
             [
              0.7777777777777778,
              "#fb9f3a"
             ],
             [
              0.8888888888888888,
              "#fdca26"
             ],
             [
              1,
              "#f0f921"
             ]
            ],
            "type": "histogram2dcontour"
           }
          ],
          "mesh3d": [
           {
            "colorbar": {
             "outlinewidth": 0,
             "ticks": ""
            },
            "type": "mesh3d"
           }
          ],
          "parcoords": [
           {
            "line": {
             "colorbar": {
              "outlinewidth": 0,
              "ticks": ""
             }
            },
            "type": "parcoords"
           }
          ],
          "pie": [
           {
            "automargin": true,
            "type": "pie"
           }
          ],
          "scatter": [
           {
            "fillpattern": {
             "fillmode": "overlay",
             "size": 10,
             "solidity": 0.2
            },
            "type": "scatter"
           }
          ],
          "scatter3d": [
           {
            "line": {
             "colorbar": {
              "outlinewidth": 0,
              "ticks": ""
             }
            },
            "marker": {
             "colorbar": {
              "outlinewidth": 0,
              "ticks": ""
             }
            },
            "type": "scatter3d"
           }
          ],
          "scattercarpet": [
           {
            "marker": {
             "colorbar": {
              "outlinewidth": 0,
              "ticks": ""
             }
            },
            "type": "scattercarpet"
           }
          ],
          "scattergeo": [
           {
            "marker": {
             "colorbar": {
              "outlinewidth": 0,
              "ticks": ""
             }
            },
            "type": "scattergeo"
           }
          ],
          "scattergl": [
           {
            "marker": {
             "colorbar": {
              "outlinewidth": 0,
              "ticks": ""
             }
            },
            "type": "scattergl"
           }
          ],
          "scattermapbox": [
           {
            "marker": {
             "colorbar": {
              "outlinewidth": 0,
              "ticks": ""
             }
            },
            "type": "scattermapbox"
           }
          ],
          "scatterpolar": [
           {
            "marker": {
             "colorbar": {
              "outlinewidth": 0,
              "ticks": ""
             }
            },
            "type": "scatterpolar"
           }
          ],
          "scatterpolargl": [
           {
            "marker": {
             "colorbar": {
              "outlinewidth": 0,
              "ticks": ""
             }
            },
            "type": "scatterpolargl"
           }
          ],
          "scatterternary": [
           {
            "marker": {
             "colorbar": {
              "outlinewidth": 0,
              "ticks": ""
             }
            },
            "type": "scatterternary"
           }
          ],
          "surface": [
           {
            "colorbar": {
             "outlinewidth": 0,
             "ticks": ""
            },
            "colorscale": [
             [
              0,
              "#0d0887"
             ],
             [
              0.1111111111111111,
              "#46039f"
             ],
             [
              0.2222222222222222,
              "#7201a8"
             ],
             [
              0.3333333333333333,
              "#9c179e"
             ],
             [
              0.4444444444444444,
              "#bd3786"
             ],
             [
              0.5555555555555556,
              "#d8576b"
             ],
             [
              0.6666666666666666,
              "#ed7953"
             ],
             [
              0.7777777777777778,
              "#fb9f3a"
             ],
             [
              0.8888888888888888,
              "#fdca26"
             ],
             [
              1,
              "#f0f921"
             ]
            ],
            "type": "surface"
           }
          ],
          "table": [
           {
            "cells": {
             "fill": {
              "color": "#EBF0F8"
             },
             "line": {
              "color": "white"
             }
            },
            "header": {
             "fill": {
              "color": "#C8D4E3"
             },
             "line": {
              "color": "white"
             }
            },
            "type": "table"
           }
          ]
         },
         "layout": {
          "annotationdefaults": {
           "arrowcolor": "#2a3f5f",
           "arrowhead": 0,
           "arrowwidth": 1
          },
          "autotypenumbers": "strict",
          "coloraxis": {
           "colorbar": {
            "outlinewidth": 0,
            "ticks": ""
           }
          },
          "colorscale": {
           "diverging": [
            [
             0,
             "#8e0152"
            ],
            [
             0.1,
             "#c51b7d"
            ],
            [
             0.2,
             "#de77ae"
            ],
            [
             0.3,
             "#f1b6da"
            ],
            [
             0.4,
             "#fde0ef"
            ],
            [
             0.5,
             "#f7f7f7"
            ],
            [
             0.6,
             "#e6f5d0"
            ],
            [
             0.7,
             "#b8e186"
            ],
            [
             0.8,
             "#7fbc41"
            ],
            [
             0.9,
             "#4d9221"
            ],
            [
             1,
             "#276419"
            ]
           ],
           "sequential": [
            [
             0,
             "#0d0887"
            ],
            [
             0.1111111111111111,
             "#46039f"
            ],
            [
             0.2222222222222222,
             "#7201a8"
            ],
            [
             0.3333333333333333,
             "#9c179e"
            ],
            [
             0.4444444444444444,
             "#bd3786"
            ],
            [
             0.5555555555555556,
             "#d8576b"
            ],
            [
             0.6666666666666666,
             "#ed7953"
            ],
            [
             0.7777777777777778,
             "#fb9f3a"
            ],
            [
             0.8888888888888888,
             "#fdca26"
            ],
            [
             1,
             "#f0f921"
            ]
           ],
           "sequentialminus": [
            [
             0,
             "#0d0887"
            ],
            [
             0.1111111111111111,
             "#46039f"
            ],
            [
             0.2222222222222222,
             "#7201a8"
            ],
            [
             0.3333333333333333,
             "#9c179e"
            ],
            [
             0.4444444444444444,
             "#bd3786"
            ],
            [
             0.5555555555555556,
             "#d8576b"
            ],
            [
             0.6666666666666666,
             "#ed7953"
            ],
            [
             0.7777777777777778,
             "#fb9f3a"
            ],
            [
             0.8888888888888888,
             "#fdca26"
            ],
            [
             1,
             "#f0f921"
            ]
           ]
          },
          "colorway": [
           "#636efa",
           "#EF553B",
           "#00cc96",
           "#ab63fa",
           "#FFA15A",
           "#19d3f3",
           "#FF6692",
           "#B6E880",
           "#FF97FF",
           "#FECB52"
          ],
          "font": {
           "color": "#2a3f5f"
          },
          "geo": {
           "bgcolor": "white",
           "lakecolor": "white",
           "landcolor": "#E5ECF6",
           "showlakes": true,
           "showland": true,
           "subunitcolor": "white"
          },
          "hoverlabel": {
           "align": "left"
          },
          "hovermode": "closest",
          "mapbox": {
           "style": "light"
          },
          "paper_bgcolor": "white",
          "plot_bgcolor": "#E5ECF6",
          "polar": {
           "angularaxis": {
            "gridcolor": "white",
            "linecolor": "white",
            "ticks": ""
           },
           "bgcolor": "#E5ECF6",
           "radialaxis": {
            "gridcolor": "white",
            "linecolor": "white",
            "ticks": ""
           }
          },
          "scene": {
           "xaxis": {
            "backgroundcolor": "#E5ECF6",
            "gridcolor": "white",
            "gridwidth": 2,
            "linecolor": "white",
            "showbackground": true,
            "ticks": "",
            "zerolinecolor": "white"
           },
           "yaxis": {
            "backgroundcolor": "#E5ECF6",
            "gridcolor": "white",
            "gridwidth": 2,
            "linecolor": "white",
            "showbackground": true,
            "ticks": "",
            "zerolinecolor": "white"
           },
           "zaxis": {
            "backgroundcolor": "#E5ECF6",
            "gridcolor": "white",
            "gridwidth": 2,
            "linecolor": "white",
            "showbackground": true,
            "ticks": "",
            "zerolinecolor": "white"
           }
          },
          "shapedefaults": {
           "line": {
            "color": "#2a3f5f"
           }
          },
          "ternary": {
           "aaxis": {
            "gridcolor": "white",
            "linecolor": "white",
            "ticks": ""
           },
           "baxis": {
            "gridcolor": "white",
            "linecolor": "white",
            "ticks": ""
           },
           "bgcolor": "#E5ECF6",
           "caxis": {
            "gridcolor": "white",
            "linecolor": "white",
            "ticks": ""
           }
          },
          "title": {
           "x": 0.05
          },
          "xaxis": {
           "automargin": true,
           "gridcolor": "white",
           "linecolor": "white",
           "ticks": "",
           "title": {
            "standoff": 15
           },
           "zerolinecolor": "white",
           "zerolinewidth": 2
          },
          "yaxis": {
           "automargin": true,
           "gridcolor": "white",
           "linecolor": "white",
           "ticks": "",
           "title": {
            "standoff": 15
           },
           "zerolinecolor": "white",
           "zerolinewidth": 2
          }
         }
        },
        "title": {
         "text": "Good vs. Bad Reviews per Game"
        },
        "width": 1000,
        "xaxis": {
         "anchor": "y",
         "categoryorder": "total descending",
         "domain": [
          0,
          1
         ],
         "title": {
          "text": "value"
         }
        },
        "yaxis": {
         "anchor": "x",
         "domain": [
          0,
          1
         ],
         "title": {
          "text": "Review Count"
         }
        }
       }
      }
     },
     "metadata": {},
     "output_type": "display_data"
    }
   ],
   "source": [
    "fig = px.bar(\n",
    "    x=[good_reviews, bad_reviews],\n",
    "    y=games,\n",
    "    labels={\"x\": \"Game\", \"y\": \"Review Count\"},  # Axis labels\n",
    "    title=\"Good vs. Bad Reviews per Game\",\n",
    "    barmode=\"group\"  # Grouped bars for comparison\n",
    ")\n",
    "\n",
    "# Add layout properties\n",
    "fig.update_layout(\n",
    "    bargap=0.1,  # Gap between bars\n",
    "    width=1000,  # Set figure width\n",
    "    height=2500,  # Set figure height\n",
    "     xaxis={\"categoryorder\": \"total descending\"}  # Sort by y-values in descending order\n",
    ")\n",
    "\n",
    "# Display the figure\n",
    "fig.show()"
   ]
  },
  {
   "cell_type": "markdown",
   "metadata": {},
   "source": [
    "# Improving Graph Readability and Exploring Sentiment Distribution\n",
    "\n",
    "The previous graph provided a general overview of the sentiment trends, showing that there are more positive reviews than negative ones. However, due to the large number of game titles and the cluttered nature of the graph, it’s difficult to discern specific insights, such as identifying which game has the most favorable reviews.  \n",
    "\n",
    "To improve the clarity of the data, we will shift to a different visualization approach, which will present the sentiment distribution in a more readable format. This allows us to better highlight the games with the best reviews and make the trends more apparent, potentially helping us discover a new game worth exploring.  \n",
    "\n",
    "The initial graph was intentionally designed with a large dataset to emphasize the challenges of displaying such vast amounts of data. This serves as a stepping stone toward the next, more focused visualization, where we will more effectively present the key insights from the dataset, helping to paint a clearer picture of the sentiment landscape.\n",
    "\n",
    "But wow that alot of data for sure  \n",
    "<iframe src=\"https://giphy.com/embed/M33UV4NDvkTHa\" width=\"480\" height=\"278\" style=\"\" frameBorder=\"0\" class=\"giphy-embed\" allowFullScreen></iframe><p><a href=\"https://giphy.com/gifs/ever-flawless-meryl-M33UV4NDvkTHa\">via GIPHY</a></p>"
   ]
  },
  {
   "cell_type": "code",
   "execution_count": 10,
   "metadata": {},
   "outputs": [],
   "source": [
    "def calculate_percents(game_scores):\n",
    "     sentiment_results = {}\n",
    "\n",
    "     for game, scores in game_scores.items():\n",
    "          total_reviews = scores[\"Good\"] + scores[\"Bad\"]\n",
    "\n",
    "          if total_reviews > 0:\n",
    "               sentiment_score = (scores[\"Good\"] - scores[\"Bad\"]) / total_reviews\n",
    "               sentiment_results[game] = {\n",
    "                    \"Sentiment Score\": round(sentiment_score, 2),\n",
    "                    \"Good\": scores[\"Good\"],\n",
    "                    \"Bad\": scores[\"Bad\"]\n",
    "               }\n",
    "          else:\n",
    "               sentiment_results[game] = {\n",
    "                    \"Sentiment Score\": 0,\n",
    "                    \"Good\": scores[\"Good\"],\n",
    "                    \"Bad\": scores[\"Bad\"]\n",
    "               }\n",
    "     return sentiment_results\n",
    "\n",
    "#call calculate_percents function and store the results \n",
    "sentiment_scores = calculate_percents(game_sentiment)\n",
    "#convert percents to a dict of each game for graph \n",
    "santiment_data = [\n",
    "    {\"Game\":games, \"Sentiment Percent\": data[\"Sentiment Score\"]}\n",
    "    for game,data in sentiment_scores.items()\n",
    "]\n"
   ]
  },
  {
   "cell_type": "markdown",
   "metadata": {},
   "source": [
    "# Sentiment Calculation and Data Preparation\n",
    "\n",
    "In this section, we calculate the sentiment scores for each game based on the number of positive and negative reviews.  \n",
    "\n",
    "### Process:\n",
    "- **Total Reviews Calculation**: For each game, the total number of reviews is calculated by adding the good (positive) and bad (negative) reviews together.\n",
    "- **Sentiment Score Calculation**: The sentiment score for each game is determined by subtracting the number of good reviews from the bad reviews and then dividing the result by the total number of reviews.\n",
    " This gives us a value that represents the overall sentiment for the game, with a positive score indicating more good reviews than bad.\n",
    "\n",
    "Once the sentiment scores are calculated, the data is prepared for visualization by converting it into a format that can be easily plotted in the next graph. This allows us to better visualize how each game is performing based on user feedback.\n"
   ]
  },
  {
   "cell_type": "code",
   "execution_count": 11,
   "metadata": {},
   "outputs": [
    {
     "data": {
      "application/vnd.plotly.v1+json": {
       "config": {
        "plotlyServerURL": "https://plot.ly"
       },
       "data": [
        {
         "alignmentgroup": "True",
         "hovertemplate": "x=%{x}<br>Sentiment Percent=%{marker.color}<extra></extra>",
         "legendgroup": "",
         "marker": {
          "color": [
           0.48,
           0.42,
           0.5,
           0.4,
           0.61,
           0.07,
           0.48,
           0.48,
           0.13,
           0.35,
           0.42,
           0.43,
           0.5,
           0.31,
           0.3,
           0.45,
           -0.02,
           0.57,
           0.45,
           0.49,
           0.3,
           0.02,
           0.52,
           0.09,
           -0.01,
           0.04,
           0.02,
           0.3,
           0.33,
           0.2,
           0.19,
           0.07,
           0.03,
           0.1,
           0.25,
           -0.01,
           0.07,
           0,
           0.01,
           0.05,
           -0.02,
           -0.06,
           0.09,
           0.4,
           0.39,
           0.35,
           0.47,
           0.4,
           0.11,
           0.47,
           0.24,
           0.56,
           0.13,
           0.31,
           0.33,
           0.29,
           0.11,
           0.41,
           0.34,
           0.32,
           0.45,
           0.25,
           0.35,
           0.5,
           0.58,
           0.71,
           0.14,
           0.52,
           0.45,
           0.28,
           0.16,
           0.33,
           0.2,
           0.47,
           0.28,
           0.17,
           0.42,
           0.3,
           0.22,
           0.03,
           0.31,
           0.7,
           0.57,
           0.39,
           0.21,
           0.57,
           0.32,
           0.45,
           0.12,
           0.31,
           0.29,
           0.18,
           -0.09,
           0.32,
           0.45,
           -0.01,
           0.18,
           0.47,
           0.35,
           0.13,
           0.42,
           0.41,
           0.38,
           0.55,
           0.25,
           0.37,
           0.42,
           0.56,
           0.33,
           0.3,
           0.31,
           0.45,
           0.21,
           0.45,
           0.38,
           0.45,
           0.37,
           0.48,
           0.37,
           0.3,
           0.46,
           0.45,
           0.3,
           0.49,
           0.52,
           0.34,
           0.42,
           0.34,
           0.4,
           0.49,
           0.31,
           0.58,
           0.36,
           0.31,
           0.23,
           0.43,
           0.5,
           0.65,
           0.36,
           0.55,
           0.57,
           0.35,
           0.09,
           0.4,
           0.53,
           0.3,
           0.51,
           0.2,
           0.6,
           0.35,
           0.54,
           0.42,
           0.49,
           0.53,
           0.57,
           0.55,
           0.29,
           0.42,
           0.55,
           0.16,
           0.5,
           0.5,
           0.58,
           0.34,
           -0.21,
           0.33,
           0.26,
           0.42,
           0.41,
           0.42,
           0.48,
           0.23,
           0.3,
           0.39,
           0.53,
           0.25,
           0.07,
           0.19,
           0.36,
           0.45,
           0.45,
           0.34,
           0.31,
           0.26,
           0.18,
           0.36,
           0.22,
           0.25,
           0.19,
           0.31,
           0.22,
           0.27,
           0.11,
           0.12,
           0.44,
           0.24,
           0.35,
           0.1,
           0.17,
           0.32,
           0.36,
           0.37,
           0.14,
           0.29,
           0.37,
           0.28,
           0.15,
           0.25,
           0.56,
           0.29,
           0.14,
           0.44,
           0.3,
           0.18,
           0.34,
           0.24,
           0.48,
           0.32,
           0.41,
           0.03,
           0.31,
           0.08,
           0.36,
           0.43,
           0.31,
           0.36,
           0.17,
           0.38,
           0.29,
           0.16,
           0.41,
           0.44,
           0.32,
           0.36,
           0.47,
           0.42,
           0.28,
           0.31,
           0.38,
           0.34,
           0.32,
           0.34,
           0.38,
           0.17,
           0.55,
           0.24,
           0.37,
           0.13,
           0.4,
           0.12,
           0.13,
           0.33,
           0.28,
           0.19,
           0.52,
           0.12,
           0.34,
           0.42,
           0.41,
           0.17,
           -0.13,
           0.32,
           0.33,
           0.53,
           0.22,
           0.2,
           0.28,
           0.14,
           0.38,
           0.37,
           0.18,
           0.36,
           0.31,
           0.09,
           0.33,
           0.25,
           0.09,
           0.47,
           0.11,
           0.37,
           0.39,
           0.18,
           0.41,
           0.17,
           0.24,
           0.28,
           0.42,
           0.31,
           0.14,
           0.35,
           0.3,
           0.39,
           0.41,
           0.46,
           0.13,
           0.17,
           0.38,
           0.28,
           0.1,
           0.26,
           0.36,
           0.35,
           0.34,
           0.45,
           0.33,
           0.4,
           0.2,
           -0.04,
           0.56,
           0.2,
           0.34,
           0.22,
           0.24,
           0.12,
           0.48
          ],
          "coloraxis": "coloraxis",
          "pattern": {
           "shape": ""
          }
         },
         "name": "",
         "offsetgroup": "",
         "orientation": "v",
         "showlegend": false,
         "textposition": "auto",
         "type": "bar",
         "x": [
          "The Witcher 3: Wild Hunt",
          "Half-Life",
          "Counter-Strike: Source",
          "Half-Life 2: Episode Two",
          "Portal 2",
          "X Rebirth",
          "Garry's Mod",
          "Sid Meier's Civilization V",
          "Dead by Daylight",
          "Sid Meier's Civilization VI",
          "Subnautica",
          "Human: Fall Flat",
          "Beat Saber",
          "Cold Waters",
          "Banished",
          "Celeste",
          "Getting Over It with Bennett Foddy",
          "A Hat in Time",
          "Overcooked! 2",
          "Slipstream",
          "The Forest",
          "Pogostuck: Rage With Your Friends",
          "PC Building Simulator",
          "RollerCoaster Tycoon World",
          "NBA 2K18",
          "NBA 2K21",
          "Deus Ex: The Fall",
          "Rapture Rejects",
          "Artifact",
          "Call of Duty: Infinite Warfare",
          "Cube World",
          "NBA 2K19",
          "Nether",
          "Wolfenstein: Youngblood",
          "Warhammer 40,000: Dawn of War III",
          "Takedown: Red Sabre",
          "ATLAS",
          "Stay Out",
          "Identity",
          "Umbrella Corps",
          "Hunt Down The Freeman",
          "WWE 2K20",
          "Down To One",
          "Axiom Verge",
          "Guacamelee! Super Turbo Championship Edition",
          "The Binding of Isaac: Rebirth",
          "To the Moon",
          "Cave Story+",
          "Titan Souls",
          "Shovel Knight: Treasure Trove",
          "Super Meat Boy",
          "Don't Escape: 4 Days to Survive",
          "Volgarr the Viking",
          "Momodora: Reverie Under the Moonlight",
          "Enter the Gungeon",
          "Shadow Complex Remastered",
          "Salt and Sanctuary",
          "20XX",
          "Hollow Knight",
          "The End Is Nigh",
          "Factorio",
          "RimWorld",
          "Insurgency: Sandstorm",
          "Slay the Spire",
          "Euro Truck Simulator 2",
          "Wallpaper Engine",
          "Pathfinder: Kingmaker",
          "Farming Simulator 19",
          "Foundation",
          "GOD EATER 3",
          "Kenshi",
          "Into the Breach",
          "Warhammer: Vermintide 2",
          "A Way Out",
          "Borderlands 3",
          "Sekiroâ„¢: Shadows Die Twice",
          "Total War: THREE KINGDOMS",
          "DEATH STRANDING",
          "MORDHAU",
          "DOOM Eternal",
          "Age of Empires: Definitive Edition",
          "A Short Hike",
          "The Henry Stickmin Collection",
          "Crusader Kings III",
          "Void Bastards",
          "Stardew Valley",
          "Tom Clancy's Rainbow Six Siege",
          "Among Us",
          "ä¸‰å›½ç¾¤è‹±ä¼ 8 Heroes of the Three Kingdoms 8",
          "Blackwake",
          "Little Nightmares",
          "Bomber Crew",
          "Neon Hardcorps",
          "Dragon Cliff é¾™å´–",
          "DRAGON BALL FighterZ",
          "X-Blades",
          "Rust",
          "Nova Drift",
          "Due Process",
          "Far Cry 5",
          "Raft",
          "HITMANâ„¢ 2",
          "Assassin's Creed Odyssey",
          "Hades",
          "Phasmophobia",
          "Helltaker",
          "Mount & Blade: Warband",
          "Totally Accurate Battle Simulator",
          "People Playground",
          "Doki Doki Literature Club",
          "Resident Evil 2",
          "Slime Rancher",
          "Hotline Miami",
          "Tomb Raider",
          "Mirror",
          "BattleBlock Theater",
          "Dishonored",
          "South Parkâ„¢: The Stick of Truthâ„¢",
          "Undertale",
          "Don't Starve",
          "Rocket League",
          "Persona 4 Golden",
          "Dead Cells",
          "OneShot",
          "VA-11 Hall-A: Cyberpunk Bartender Action",
          "Broforce",
          "The Wolf Among Us",
          "The Walking Dead",
          "Divinity: Original Sin 2",
          "Satisfactory",
          "One Finger Death Punch",
          "Bloons TD 6",
          "Oxygen Not Included",
          "Cuphead",
          "ULTRAKILL",
          "Baba Is You",
          "Castle Crashers",
          "Townscaper",
          "Papers, Please",
          "Senrenï¼ŠBanka",
          "GRIS",
          "DUSK",
          "Outlast",
          "The Elder Scrolls V: Skyrim",
          "The Room",
          "FTL: Faster Than Light",
          "There Is No Game: Wrong Dimension",
          "Dying Light",
          "American Truck Simulator",
          "Saints Row: The Third",
          "STAR WARSâ„¢ Empire at War: Gold Pack",
          "Ori and the Will of the Wisps",
          "BeamNG.drive",
          "The Room Two",
          "Age of Empires II (2013)",
          "Ravenfield",
          "Super Hexagon",
          "BioShock Infinite",
          "Just Shapes & Beats",
          "DOOM",
          "Black Mesa",
          "Finding Paradise",
          "Tabletop Simulator",
          "Keep Talking and Nobody Explodes",
          "Duck Game",
          "STEINS;GATE",
          "Danganronpa: Trigger Happy Havoc",
          "Mark of the Ninja",
          "Phoenix Wright: Ace Attorney Trilogy",
          "Batman: Arkham Asylum GOTY Edition",
          "Gunpoint",
          "The Binding of Isaac",
          "Danganronpa 2: Goodbye Despair",
          "HuniePop",
          "Grimm's Hollow",
          "Grand Theft Auto V",
          "PLAYERUNKNOWN'S BATTLEGROUNDS",
          "Monster Hunter: World",
          "The Elder Scrolls Online",
          "Total War: WARHAMMER II",
          "Cities: Skylines",
          "Assassin's Creed Origins",
          "Stellaris",
          "Black Desert Online",
          "Kingdom Come: Deliverance",
          "Jurassic World Evolution",
          "ARK: Survival Evolved",
          "No Man's Sky",
          "SCUM",
          "Frostpunk",
          "Tom Clancy's Ghost ReconÂ® Wildlands",
          "FINAL FANTASY XV WINDOWS EDITION",
          "Fallout 4",
          "DARK SOULSâ„¢ III",
          "Rise of the Tomb Raider",
          "Sword Art Online: Fatal Bullet",
          "The Crew 2",
          "DARK SOULSâ„¢: REMASTERED",
          "Middle-earthâ„¢: Shadow of Warâ„¢",
          "Watch_Dogs 2",
          "Pillars of Eternity II: Deadfire",
          "Hearts of Iron IV",
          "They Are Billions",
          "Total War Saga: Thrones of Britannia",
          "Don't Starve Together",
          "Total War: ROME II - Emperor Edition",
          "Call of Duty: WWII",
          "BATTLETECH",
          "Terraria",
          "PAYDAY 2",
          "XCOM 2",
          "Deep Rock Galactic",
          "The Sims(TM) 3",
          "Hunt: Showdown",
          "theHunter: Call of the Wildâ„¢",
          "Conan Exiles",
          "Two Point Hospital",
          "Total War: WARHAMMER",
          "The Elder Scrolls V: Skyrim Special Edition",
          "Darkest DungeonÂ®",
          "NieR:Automataâ„¢",
          "Bless Online",
          "Football Manager 2019",
          "House Flipper",
          "Surviving Mars",
          "SOULCALIBUR VI",
          "For Honor",
          "Arma 3",
          "Ni no Kuniâ„¢ II: Revenant Kingdom",
          "SOS",
          "Battle Royale Trainer",
          "My Time At Portia",
          "Iconoclasts",
          "Railway Empire",
          "Trailmakers",
          "Staxel",
          "BATTALION 1944",
          "The Legend of Heroes: Trails of Cold Steel II",
          "Rise of Industry",
          "CHRONO TRIGGER",
          "Freeman: Guerrilla Warfare",
          "Dungreed",
          "Puyo Puyoâ„¢TetrisÂ® ",
          "Secret of Mana",
          "Farm Together",
          "Cyberdimension Neptunia: 4 Goddesses Online",
          "Fishing: Barents Sea",
          "DYNASTY WARRIORS 9",
          "We Were Here Too",
          "METAL GEAR SURVIVE",
          "Desolate",
          "Eco",
          "SENRAN KAGURA Peach Beach Splash",
          "PixARK",
          "Out of the Park Baseball 19",
          "Devil May Cry HD Collection",
          "Heroes of Hammerwatch",
          "Ghost of a Tale",
          "Monster Prom",
          "Farm Manager 2018",
          "Rules Of Survival",
          "STEINS;GATE 0",
          "Ancestors Legacy",
          "FAR: Lone Sails",
          "Crash Bandicootâ„¢ N. Sane Trilogy",
          "Budget Cuts",
          "Totally Accurate Battlegrounds",
          "Vampyr",
          "Clicker Heroes 2",
          "Yakuza 0",
          "WWE 2K19",
          "Warhammer 40,000: Mechanicus",
          "Thief Simulator",
          "Darksiders III",
          "Mutant Year Zero: Road to Eden",
          "Kingdom Two Crowns",
          "Just Cause 4",
          "Planet Coaster",
          "Nioh: Complete Edition",
          "Europa Universalis IV",
          "FINAL FANTASY XII THE ZODIAC AGE",
          "Just Cause 3",
          "FINAL FANTASY XIV Online",
          "Resident Evil 7 Biohazard",
          "Torment: Tides of Numenera",
          "Detention",
          "Pit People",
          "Tales of Berseria",
          "Urban Empire",
          "Avorion",
          "Youtubers Life",
          "Night in the Woods",
          "Golf It!",
          "Northgard",
          "BERSERK and the Band of the Hawk",
          "The Wild Eight",
          "Sniper Elite 4",
          "For The King",
          "WWE 2K17",
          "Fairy Fencer F Advent Dark Force",
          "Day of Infamy",
          "SENRAN KAGURA ESTIVAL VERSUS",
          "Streets of Rogue",
          "Ultimate Marvel vs. Capcom 3",
          "SimAirport",
          "Thimbleweed Park",
          "Toukiden 2",
          "Dead Rising 4",
          "X-Plane 11",
          "Styx: Shards of Darkness",
          "Train Sim WorldÂ® 2020",
          "DRAGON QUEST HEROESâ„¢ II",
          "Steel Division: Normandy 44",
          "DiRT 4",
          "Half-Life: Alyx"
         ],
         "xaxis": "x",
         "y": [
          0.48,
          0.42,
          0.5,
          0.4,
          0.61,
          0.07,
          0.48,
          0.48,
          0.13,
          0.35,
          0.42,
          0.43,
          0.5,
          0.31,
          0.3,
          0.45,
          -0.02,
          0.57,
          0.45,
          0.49,
          0.3,
          0.02,
          0.52,
          0.09,
          -0.01,
          0.04,
          0.02,
          0.3,
          0.33,
          0.2,
          0.19,
          0.07,
          0.03,
          0.1,
          0.25,
          -0.01,
          0.07,
          0,
          0.01,
          0.05,
          -0.02,
          -0.06,
          0.09,
          0.4,
          0.39,
          0.35,
          0.47,
          0.4,
          0.11,
          0.47,
          0.24,
          0.56,
          0.13,
          0.31,
          0.33,
          0.29,
          0.11,
          0.41,
          0.34,
          0.32,
          0.45,
          0.25,
          0.35,
          0.5,
          0.58,
          0.71,
          0.14,
          0.52,
          0.45,
          0.28,
          0.16,
          0.33,
          0.2,
          0.47,
          0.28,
          0.17,
          0.42,
          0.3,
          0.22,
          0.03,
          0.31,
          0.7,
          0.57,
          0.39,
          0.21,
          0.57,
          0.32,
          0.45,
          0.12,
          0.31,
          0.29,
          0.18,
          -0.09,
          0.32,
          0.45,
          -0.01,
          0.18,
          0.47,
          0.35,
          0.13,
          0.42,
          0.41,
          0.38,
          0.55,
          0.25,
          0.37,
          0.42,
          0.56,
          0.33,
          0.3,
          0.31,
          0.45,
          0.21,
          0.45,
          0.38,
          0.45,
          0.37,
          0.48,
          0.37,
          0.3,
          0.46,
          0.45,
          0.3,
          0.49,
          0.52,
          0.34,
          0.42,
          0.34,
          0.4,
          0.49,
          0.31,
          0.58,
          0.36,
          0.31,
          0.23,
          0.43,
          0.5,
          0.65,
          0.36,
          0.55,
          0.57,
          0.35,
          0.09,
          0.4,
          0.53,
          0.3,
          0.51,
          0.2,
          0.6,
          0.35,
          0.54,
          0.42,
          0.49,
          0.53,
          0.57,
          0.55,
          0.29,
          0.42,
          0.55,
          0.16,
          0.5,
          0.5,
          0.58,
          0.34,
          -0.21,
          0.33,
          0.26,
          0.42,
          0.41,
          0.42,
          0.48,
          0.23,
          0.3,
          0.39,
          0.53,
          0.25,
          0.07,
          0.19,
          0.36,
          0.45,
          0.45,
          0.34,
          0.31,
          0.26,
          0.18,
          0.36,
          0.22,
          0.25,
          0.19,
          0.31,
          0.22,
          0.27,
          0.11,
          0.12,
          0.44,
          0.24,
          0.35,
          0.1,
          0.17,
          0.32,
          0.36,
          0.37,
          0.14,
          0.29,
          0.37,
          0.28,
          0.15,
          0.25,
          0.56,
          0.29,
          0.14,
          0.44,
          0.3,
          0.18,
          0.34,
          0.24,
          0.48,
          0.32,
          0.41,
          0.03,
          0.31,
          0.08,
          0.36,
          0.43,
          0.31,
          0.36,
          0.17,
          0.38,
          0.29,
          0.16,
          0.41,
          0.44,
          0.32,
          0.36,
          0.47,
          0.42,
          0.28,
          0.31,
          0.38,
          0.34,
          0.32,
          0.34,
          0.38,
          0.17,
          0.55,
          0.24,
          0.37,
          0.13,
          0.4,
          0.12,
          0.13,
          0.33,
          0.28,
          0.19,
          0.52,
          0.12,
          0.34,
          0.42,
          0.41,
          0.17,
          -0.13,
          0.32,
          0.33,
          0.53,
          0.22,
          0.2,
          0.28,
          0.14,
          0.38,
          0.37,
          0.18,
          0.36,
          0.31,
          0.09,
          0.33,
          0.25,
          0.09,
          0.47,
          0.11,
          0.37,
          0.39,
          0.18,
          0.41,
          0.17,
          0.24,
          0.28,
          0.42,
          0.31,
          0.14,
          0.35,
          0.3,
          0.39,
          0.41,
          0.46,
          0.13,
          0.17,
          0.38,
          0.28,
          0.1,
          0.26,
          0.36,
          0.35,
          0.34,
          0.45,
          0.33,
          0.4,
          0.2,
          -0.04,
          0.56,
          0.2,
          0.34,
          0.22,
          0.24,
          0.12,
          0.48
         ],
         "yaxis": "y"
        }
       ],
       "layout": {
        "bargap": 0.2,
        "barmode": "relative",
        "coloraxis": {
         "colorbar": {
          "title": {
           "text": "Sentiment Percent"
          }
         },
         "colorscale": [
          [
           0,
           "rgb(165,0,38)"
          ],
          [
           0.1,
           "rgb(215,48,39)"
          ],
          [
           0.2,
           "rgb(244,109,67)"
          ],
          [
           0.3,
           "rgb(253,174,97)"
          ],
          [
           0.4,
           "rgb(254,224,139)"
          ],
          [
           0.5,
           "rgb(255,255,191)"
          ],
          [
           0.6,
           "rgb(217,239,139)"
          ],
          [
           0.7,
           "rgb(166,217,106)"
          ],
          [
           0.8,
           "rgb(102,189,99)"
          ],
          [
           0.9,
           "rgb(26,152,80)"
          ],
          [
           1,
           "rgb(0,104,55)"
          ]
         ]
        },
        "height": 1000,
        "legend": {
         "tracegroupgap": 0
        },
        "template": {
         "data": {
          "bar": [
           {
            "error_x": {
             "color": "#2a3f5f"
            },
            "error_y": {
             "color": "#2a3f5f"
            },
            "marker": {
             "line": {
              "color": "#E5ECF6",
              "width": 0.5
             },
             "pattern": {
              "fillmode": "overlay",
              "size": 10,
              "solidity": 0.2
             }
            },
            "type": "bar"
           }
          ],
          "barpolar": [
           {
            "marker": {
             "line": {
              "color": "#E5ECF6",
              "width": 0.5
             },
             "pattern": {
              "fillmode": "overlay",
              "size": 10,
              "solidity": 0.2
             }
            },
            "type": "barpolar"
           }
          ],
          "carpet": [
           {
            "aaxis": {
             "endlinecolor": "#2a3f5f",
             "gridcolor": "white",
             "linecolor": "white",
             "minorgridcolor": "white",
             "startlinecolor": "#2a3f5f"
            },
            "baxis": {
             "endlinecolor": "#2a3f5f",
             "gridcolor": "white",
             "linecolor": "white",
             "minorgridcolor": "white",
             "startlinecolor": "#2a3f5f"
            },
            "type": "carpet"
           }
          ],
          "choropleth": [
           {
            "colorbar": {
             "outlinewidth": 0,
             "ticks": ""
            },
            "type": "choropleth"
           }
          ],
          "contour": [
           {
            "colorbar": {
             "outlinewidth": 0,
             "ticks": ""
            },
            "colorscale": [
             [
              0,
              "#0d0887"
             ],
             [
              0.1111111111111111,
              "#46039f"
             ],
             [
              0.2222222222222222,
              "#7201a8"
             ],
             [
              0.3333333333333333,
              "#9c179e"
             ],
             [
              0.4444444444444444,
              "#bd3786"
             ],
             [
              0.5555555555555556,
              "#d8576b"
             ],
             [
              0.6666666666666666,
              "#ed7953"
             ],
             [
              0.7777777777777778,
              "#fb9f3a"
             ],
             [
              0.8888888888888888,
              "#fdca26"
             ],
             [
              1,
              "#f0f921"
             ]
            ],
            "type": "contour"
           }
          ],
          "contourcarpet": [
           {
            "colorbar": {
             "outlinewidth": 0,
             "ticks": ""
            },
            "type": "contourcarpet"
           }
          ],
          "heatmap": [
           {
            "colorbar": {
             "outlinewidth": 0,
             "ticks": ""
            },
            "colorscale": [
             [
              0,
              "#0d0887"
             ],
             [
              0.1111111111111111,
              "#46039f"
             ],
             [
              0.2222222222222222,
              "#7201a8"
             ],
             [
              0.3333333333333333,
              "#9c179e"
             ],
             [
              0.4444444444444444,
              "#bd3786"
             ],
             [
              0.5555555555555556,
              "#d8576b"
             ],
             [
              0.6666666666666666,
              "#ed7953"
             ],
             [
              0.7777777777777778,
              "#fb9f3a"
             ],
             [
              0.8888888888888888,
              "#fdca26"
             ],
             [
              1,
              "#f0f921"
             ]
            ],
            "type": "heatmap"
           }
          ],
          "heatmapgl": [
           {
            "colorbar": {
             "outlinewidth": 0,
             "ticks": ""
            },
            "colorscale": [
             [
              0,
              "#0d0887"
             ],
             [
              0.1111111111111111,
              "#46039f"
             ],
             [
              0.2222222222222222,
              "#7201a8"
             ],
             [
              0.3333333333333333,
              "#9c179e"
             ],
             [
              0.4444444444444444,
              "#bd3786"
             ],
             [
              0.5555555555555556,
              "#d8576b"
             ],
             [
              0.6666666666666666,
              "#ed7953"
             ],
             [
              0.7777777777777778,
              "#fb9f3a"
             ],
             [
              0.8888888888888888,
              "#fdca26"
             ],
             [
              1,
              "#f0f921"
             ]
            ],
            "type": "heatmapgl"
           }
          ],
          "histogram": [
           {
            "marker": {
             "pattern": {
              "fillmode": "overlay",
              "size": 10,
              "solidity": 0.2
             }
            },
            "type": "histogram"
           }
          ],
          "histogram2d": [
           {
            "colorbar": {
             "outlinewidth": 0,
             "ticks": ""
            },
            "colorscale": [
             [
              0,
              "#0d0887"
             ],
             [
              0.1111111111111111,
              "#46039f"
             ],
             [
              0.2222222222222222,
              "#7201a8"
             ],
             [
              0.3333333333333333,
              "#9c179e"
             ],
             [
              0.4444444444444444,
              "#bd3786"
             ],
             [
              0.5555555555555556,
              "#d8576b"
             ],
             [
              0.6666666666666666,
              "#ed7953"
             ],
             [
              0.7777777777777778,
              "#fb9f3a"
             ],
             [
              0.8888888888888888,
              "#fdca26"
             ],
             [
              1,
              "#f0f921"
             ]
            ],
            "type": "histogram2d"
           }
          ],
          "histogram2dcontour": [
           {
            "colorbar": {
             "outlinewidth": 0,
             "ticks": ""
            },
            "colorscale": [
             [
              0,
              "#0d0887"
             ],
             [
              0.1111111111111111,
              "#46039f"
             ],
             [
              0.2222222222222222,
              "#7201a8"
             ],
             [
              0.3333333333333333,
              "#9c179e"
             ],
             [
              0.4444444444444444,
              "#bd3786"
             ],
             [
              0.5555555555555556,
              "#d8576b"
             ],
             [
              0.6666666666666666,
              "#ed7953"
             ],
             [
              0.7777777777777778,
              "#fb9f3a"
             ],
             [
              0.8888888888888888,
              "#fdca26"
             ],
             [
              1,
              "#f0f921"
             ]
            ],
            "type": "histogram2dcontour"
           }
          ],
          "mesh3d": [
           {
            "colorbar": {
             "outlinewidth": 0,
             "ticks": ""
            },
            "type": "mesh3d"
           }
          ],
          "parcoords": [
           {
            "line": {
             "colorbar": {
              "outlinewidth": 0,
              "ticks": ""
             }
            },
            "type": "parcoords"
           }
          ],
          "pie": [
           {
            "automargin": true,
            "type": "pie"
           }
          ],
          "scatter": [
           {
            "fillpattern": {
             "fillmode": "overlay",
             "size": 10,
             "solidity": 0.2
            },
            "type": "scatter"
           }
          ],
          "scatter3d": [
           {
            "line": {
             "colorbar": {
              "outlinewidth": 0,
              "ticks": ""
             }
            },
            "marker": {
             "colorbar": {
              "outlinewidth": 0,
              "ticks": ""
             }
            },
            "type": "scatter3d"
           }
          ],
          "scattercarpet": [
           {
            "marker": {
             "colorbar": {
              "outlinewidth": 0,
              "ticks": ""
             }
            },
            "type": "scattercarpet"
           }
          ],
          "scattergeo": [
           {
            "marker": {
             "colorbar": {
              "outlinewidth": 0,
              "ticks": ""
             }
            },
            "type": "scattergeo"
           }
          ],
          "scattergl": [
           {
            "marker": {
             "colorbar": {
              "outlinewidth": 0,
              "ticks": ""
             }
            },
            "type": "scattergl"
           }
          ],
          "scattermapbox": [
           {
            "marker": {
             "colorbar": {
              "outlinewidth": 0,
              "ticks": ""
             }
            },
            "type": "scattermapbox"
           }
          ],
          "scatterpolar": [
           {
            "marker": {
             "colorbar": {
              "outlinewidth": 0,
              "ticks": ""
             }
            },
            "type": "scatterpolar"
           }
          ],
          "scatterpolargl": [
           {
            "marker": {
             "colorbar": {
              "outlinewidth": 0,
              "ticks": ""
             }
            },
            "type": "scatterpolargl"
           }
          ],
          "scatterternary": [
           {
            "marker": {
             "colorbar": {
              "outlinewidth": 0,
              "ticks": ""
             }
            },
            "type": "scatterternary"
           }
          ],
          "surface": [
           {
            "colorbar": {
             "outlinewidth": 0,
             "ticks": ""
            },
            "colorscale": [
             [
              0,
              "#0d0887"
             ],
             [
              0.1111111111111111,
              "#46039f"
             ],
             [
              0.2222222222222222,
              "#7201a8"
             ],
             [
              0.3333333333333333,
              "#9c179e"
             ],
             [
              0.4444444444444444,
              "#bd3786"
             ],
             [
              0.5555555555555556,
              "#d8576b"
             ],
             [
              0.6666666666666666,
              "#ed7953"
             ],
             [
              0.7777777777777778,
              "#fb9f3a"
             ],
             [
              0.8888888888888888,
              "#fdca26"
             ],
             [
              1,
              "#f0f921"
             ]
            ],
            "type": "surface"
           }
          ],
          "table": [
           {
            "cells": {
             "fill": {
              "color": "#EBF0F8"
             },
             "line": {
              "color": "white"
             }
            },
            "header": {
             "fill": {
              "color": "#C8D4E3"
             },
             "line": {
              "color": "white"
             }
            },
            "type": "table"
           }
          ]
         },
         "layout": {
          "annotationdefaults": {
           "arrowcolor": "#2a3f5f",
           "arrowhead": 0,
           "arrowwidth": 1
          },
          "autotypenumbers": "strict",
          "coloraxis": {
           "colorbar": {
            "outlinewidth": 0,
            "ticks": ""
           }
          },
          "colorscale": {
           "diverging": [
            [
             0,
             "#8e0152"
            ],
            [
             0.1,
             "#c51b7d"
            ],
            [
             0.2,
             "#de77ae"
            ],
            [
             0.3,
             "#f1b6da"
            ],
            [
             0.4,
             "#fde0ef"
            ],
            [
             0.5,
             "#f7f7f7"
            ],
            [
             0.6,
             "#e6f5d0"
            ],
            [
             0.7,
             "#b8e186"
            ],
            [
             0.8,
             "#7fbc41"
            ],
            [
             0.9,
             "#4d9221"
            ],
            [
             1,
             "#276419"
            ]
           ],
           "sequential": [
            [
             0,
             "#0d0887"
            ],
            [
             0.1111111111111111,
             "#46039f"
            ],
            [
             0.2222222222222222,
             "#7201a8"
            ],
            [
             0.3333333333333333,
             "#9c179e"
            ],
            [
             0.4444444444444444,
             "#bd3786"
            ],
            [
             0.5555555555555556,
             "#d8576b"
            ],
            [
             0.6666666666666666,
             "#ed7953"
            ],
            [
             0.7777777777777778,
             "#fb9f3a"
            ],
            [
             0.8888888888888888,
             "#fdca26"
            ],
            [
             1,
             "#f0f921"
            ]
           ],
           "sequentialminus": [
            [
             0,
             "#0d0887"
            ],
            [
             0.1111111111111111,
             "#46039f"
            ],
            [
             0.2222222222222222,
             "#7201a8"
            ],
            [
             0.3333333333333333,
             "#9c179e"
            ],
            [
             0.4444444444444444,
             "#bd3786"
            ],
            [
             0.5555555555555556,
             "#d8576b"
            ],
            [
             0.6666666666666666,
             "#ed7953"
            ],
            [
             0.7777777777777778,
             "#fb9f3a"
            ],
            [
             0.8888888888888888,
             "#fdca26"
            ],
            [
             1,
             "#f0f921"
            ]
           ]
          },
          "colorway": [
           "#636efa",
           "#EF553B",
           "#00cc96",
           "#ab63fa",
           "#FFA15A",
           "#19d3f3",
           "#FF6692",
           "#B6E880",
           "#FF97FF",
           "#FECB52"
          ],
          "font": {
           "color": "#2a3f5f"
          },
          "geo": {
           "bgcolor": "white",
           "lakecolor": "white",
           "landcolor": "#E5ECF6",
           "showlakes": true,
           "showland": true,
           "subunitcolor": "white"
          },
          "hoverlabel": {
           "align": "left"
          },
          "hovermode": "closest",
          "mapbox": {
           "style": "light"
          },
          "paper_bgcolor": "white",
          "plot_bgcolor": "#E5ECF6",
          "polar": {
           "angularaxis": {
            "gridcolor": "white",
            "linecolor": "white",
            "ticks": ""
           },
           "bgcolor": "#E5ECF6",
           "radialaxis": {
            "gridcolor": "white",
            "linecolor": "white",
            "ticks": ""
           }
          },
          "scene": {
           "xaxis": {
            "backgroundcolor": "#E5ECF6",
            "gridcolor": "white",
            "gridwidth": 2,
            "linecolor": "white",
            "showbackground": true,
            "ticks": "",
            "zerolinecolor": "white"
           },
           "yaxis": {
            "backgroundcolor": "#E5ECF6",
            "gridcolor": "white",
            "gridwidth": 2,
            "linecolor": "white",
            "showbackground": true,
            "ticks": "",
            "zerolinecolor": "white"
           },
           "zaxis": {
            "backgroundcolor": "#E5ECF6",
            "gridcolor": "white",
            "gridwidth": 2,
            "linecolor": "white",
            "showbackground": true,
            "ticks": "",
            "zerolinecolor": "white"
           }
          },
          "shapedefaults": {
           "line": {
            "color": "#2a3f5f"
           }
          },
          "ternary": {
           "aaxis": {
            "gridcolor": "white",
            "linecolor": "white",
            "ticks": ""
           },
           "baxis": {
            "gridcolor": "white",
            "linecolor": "white",
            "ticks": ""
           },
           "bgcolor": "#E5ECF6",
           "caxis": {
            "gridcolor": "white",
            "linecolor": "white",
            "ticks": ""
           }
          },
          "title": {
           "x": 0.05
          },
          "xaxis": {
           "automargin": true,
           "gridcolor": "white",
           "linecolor": "white",
           "ticks": "",
           "title": {
            "standoff": 15
           },
           "zerolinecolor": "white",
           "zerolinewidth": 2
          },
          "yaxis": {
           "automargin": true,
           "gridcolor": "white",
           "linecolor": "white",
           "ticks": "",
           "title": {
            "standoff": 15
           },
           "zerolinecolor": "white",
           "zerolinewidth": 2
          }
         }
        },
        "title": {
         "font": {
          "size": 24
         },
         "text": "Game Sentiment Percentages"
        },
        "width": 2300,
        "xaxis": {
         "anchor": "y",
         "domain": [
          0,
          1
         ],
         "title": {
          "font": {
           "size": 18
          },
          "text": "Game Title"
         }
        },
        "yaxis": {
         "anchor": "x",
         "domain": [
          0,
          1
         ],
         "title": {
          "font": {
           "size": 18
          },
          "text": "Sentiment Percent"
         }
        }
       }
      }
     },
     "metadata": {},
     "output_type": "display_data"
    }
   ],
   "source": [
    "#values are not being handed to this properly find out why need a bigger screen for it to see what vales\n",
    "#are being passed \n",
    "#create the graph for the percent scores \n",
    "fig1 = px.bar(\n",
    "    santiment_data,\n",
    "    x=games,\n",
    "    y=\"Sentiment Percent\",\n",
    "    title=\"Game Sentiment Percentages\",\n",
    "    labels={\"Sentiment Score\": \"Sentiment Score\", \"Game\": \"Game Title\"},\n",
    "    color=\"Sentiment Percent\",  # Adds color to the bars based on the score\n",
    "    color_continuous_scale=\"RdYlGn\"  # Green for positive, red for negative\n",
    ")\n",
    "fig1.update_layout(\n",
    "    bargap=0.2,  # Gap between bars\n",
    "    width=2300,  # Set figure width\n",
    "    height=1000,  # Set figure height\n",
    "    title=dict(font=dict(size=24)),  # Increase title font size\n",
    "    xaxis=dict(title=\"Game Title\", titlefont=dict(size=18)),  # Axis title font size\n",
    "    yaxis=dict(title=\"Sentiment Percent\", titlefont=dict(size=18)),  # Axis title font size\n",
    "     #xaxis={\"categoryorder\": \"total descending\"}  # Sort by y-values in descending order\n",
    ")\n",
    "\n",
    "fig1.show()"
   ]
  },
  {
   "cell_type": "markdown",
   "metadata": {},
   "source": [
    "# Visualizing Sentiment Percentages for Games\n",
    "\n",
    "This section creates a bar graph to display the sentiment percentages for each game, derived from the sentiment scores calculated in the previous steps.  \n",
    "\n",
    "### Graph Details:\n",
    "- **Sentiment Calculation**: The sentiment for each game is represented as a percentage, with a positive sentiment closer to 1 and a negative sentiment closer to -1.  \n",
    "  This score is based on the ratio of good to bad reviews for each game.\n",
    "  \n",
    "- **Graph Format**: The bar graph is designed to make it easier to identify the sentiment for each game.  \n",
    "  Each bar represents a game's sentiment score, and the color of the bar reflects the sentiment intensity—green for positive and red for negative.\n",
    "  \n",
    "- **Enhanced UI**: The graph’s size has been increased to allow for more readable labels and bars.  \n",
    "  The games are presented in a format where the bars are wider and less compact, improving visibility.  \n",
    "  Hovering over each bar reveals the game title and its respective sentiment score, making the graph more interactive and easier to interpret.  \n",
    "  Additionally, you can drag to zoom in on sections of the graph for a closer view, allowing for a more detailed exploration of specific games.\n",
    "\n",
    "By using this approach, the sentiment percentages are more clearly presented.  \n",
    "This allows us to quickly identify which games have the best user feedback and which ones may need improvement.\n",
    "\n",
    "\n"
   ]
  },
  {
   "cell_type": "markdown",
   "metadata": {},
   "source": [
    "# Conclusion\n",
    "\n",
    "Through this analysis, we've explored the sentiment trends across a variety of Steam games, using both positive and negative review data to calculate sentiment scores. The interactive visualizations provided allow for a deeper understanding of user feedback, highlighting which games resonate positively with players and which may need improvement.\n",
    "\n",
    "By applying sentiment analysis and visualizing the results, we’ve been able to gain valuable insights that could guide future decisions, whether it’s selecting a game to play or understanding how different titles are perceived by their audience.\n",
    "\n",
    "Thank you for exploring this sentiment analysis project! I hope you’ve gained a better understanding of how data can help uncover trends and guide decisions. Feel free to dive deeper into the data and discover even more insights.  \n",
    "\n",
    "<iframe src=\"https://giphy.com/embed/B6G2MYBmtnGYU\" width=\"480\" height=\"298\" style=\"\" frameBorder=\"0\" class=\"giphy-embed\" allowFullScreen></iframe><p><a href=\"https://giphy.com/gifs/abandon-thread-dislike-B6G2MYBmtnGYU\">via GIPHY</a></p>"
   ]
  }
 ],
 "metadata": {
  "kernelspec": {
   "display_name": "Python 3",
   "language": "python",
   "name": "python3"
  },
  "language_info": {
   "codemirror_mode": {
    "name": "ipython",
    "version": 3
   },
   "file_extension": ".py",
   "mimetype": "text/x-python",
   "name": "python",
   "nbconvert_exporter": "python",
   "pygments_lexer": "ipython3",
   "version": "3.13.0"
  }
 },
 "nbformat": 4,
 "nbformat_minor": 2
}
